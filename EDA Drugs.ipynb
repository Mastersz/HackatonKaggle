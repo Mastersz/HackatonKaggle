{
 "cells": [
  {
   "cell_type": "code",
   "execution_count": 167,
   "metadata": {},
   "outputs": [],
   "source": [
    "import pandas as pd\n",
    "import numpy as np\n",
    "from textblob import TextBlob\n",
    "import matplotlib.pyplot as plt\n",
    "import seaborn as sb\n",
    "%matplotlib inline"
   ]
  },
  {
   "cell_type": "code",
   "execution_count": 168,
   "metadata": {},
   "outputs": [
    {
     "data": {
      "text/html": [
       "<div>\n",
       "<style scoped>\n",
       "    .dataframe tbody tr th:only-of-type {\n",
       "        vertical-align: middle;\n",
       "    }\n",
       "\n",
       "    .dataframe tbody tr th {\n",
       "        vertical-align: top;\n",
       "    }\n",
       "\n",
       "    .dataframe thead th {\n",
       "        text-align: right;\n",
       "    }\n",
       "</style>\n",
       "<table border=\"1\" class=\"dataframe\">\n",
       "  <thead>\n",
       "    <tr style=\"text-align: right;\">\n",
       "      <th></th>\n",
       "      <th>uniqueID</th>\n",
       "      <th>drugName</th>\n",
       "      <th>condition</th>\n",
       "      <th>review</th>\n",
       "      <th>rating</th>\n",
       "      <th>date</th>\n",
       "      <th>usefulCount</th>\n",
       "    </tr>\n",
       "  </thead>\n",
       "  <tbody>\n",
       "    <tr>\n",
       "      <th>0</th>\n",
       "      <td>206461</td>\n",
       "      <td>Valsartan</td>\n",
       "      <td>Left Ventricular Dysfunction</td>\n",
       "      <td>\"It has no side effect, I take it in combinati...</td>\n",
       "      <td>9</td>\n",
       "      <td>20-May-12</td>\n",
       "      <td>27</td>\n",
       "    </tr>\n",
       "    <tr>\n",
       "      <th>1</th>\n",
       "      <td>95260</td>\n",
       "      <td>Guanfacine</td>\n",
       "      <td>ADHD</td>\n",
       "      <td>\"My son is halfway through his fourth week of ...</td>\n",
       "      <td>8</td>\n",
       "      <td>27-Apr-10</td>\n",
       "      <td>192</td>\n",
       "    </tr>\n",
       "    <tr>\n",
       "      <th>2</th>\n",
       "      <td>92703</td>\n",
       "      <td>Lybrel</td>\n",
       "      <td>Birth Control</td>\n",
       "      <td>\"I used to take another oral contraceptive, wh...</td>\n",
       "      <td>5</td>\n",
       "      <td>14-Dec-09</td>\n",
       "      <td>17</td>\n",
       "    </tr>\n",
       "    <tr>\n",
       "      <th>3</th>\n",
       "      <td>138000</td>\n",
       "      <td>Ortho Evra</td>\n",
       "      <td>Birth Control</td>\n",
       "      <td>\"This is my first time using any form of birth...</td>\n",
       "      <td>8</td>\n",
       "      <td>3-Nov-15</td>\n",
       "      <td>10</td>\n",
       "    </tr>\n",
       "    <tr>\n",
       "      <th>4</th>\n",
       "      <td>35696</td>\n",
       "      <td>Buprenorphine / naloxone</td>\n",
       "      <td>Opiate Dependence</td>\n",
       "      <td>\"Suboxone has completely turned my life around...</td>\n",
       "      <td>9</td>\n",
       "      <td>27-Nov-16</td>\n",
       "      <td>37</td>\n",
       "    </tr>\n",
       "    <tr>\n",
       "      <th>5</th>\n",
       "      <td>155963</td>\n",
       "      <td>Cialis</td>\n",
       "      <td>Benign Prostatic Hyperplasia</td>\n",
       "      <td>\"2nd day on 5mg started to work with rock hard...</td>\n",
       "      <td>2</td>\n",
       "      <td>28-Nov-15</td>\n",
       "      <td>43</td>\n",
       "    </tr>\n",
       "    <tr>\n",
       "      <th>6</th>\n",
       "      <td>165907</td>\n",
       "      <td>Levonorgestrel</td>\n",
       "      <td>Emergency Contraception</td>\n",
       "      <td>\"He pulled out, but he cummed a bit in me. I t...</td>\n",
       "      <td>1</td>\n",
       "      <td>7-Mar-17</td>\n",
       "      <td>5</td>\n",
       "    </tr>\n",
       "    <tr>\n",
       "      <th>7</th>\n",
       "      <td>102654</td>\n",
       "      <td>Aripiprazole</td>\n",
       "      <td>Bipolar Disorde</td>\n",
       "      <td>\"Abilify changed my life. There is hope. I was...</td>\n",
       "      <td>10</td>\n",
       "      <td>14-Mar-15</td>\n",
       "      <td>32</td>\n",
       "    </tr>\n",
       "    <tr>\n",
       "      <th>8</th>\n",
       "      <td>74811</td>\n",
       "      <td>Keppra</td>\n",
       "      <td>Epilepsy</td>\n",
       "      <td>\" I Ve had  nothing but problems with the Kepp...</td>\n",
       "      <td>1</td>\n",
       "      <td>9-Aug-16</td>\n",
       "      <td>11</td>\n",
       "    </tr>\n",
       "    <tr>\n",
       "      <th>9</th>\n",
       "      <td>48928</td>\n",
       "      <td>Ethinyl estradiol / levonorgestrel</td>\n",
       "      <td>Birth Control</td>\n",
       "      <td>\"I had been on the pill for many years. When m...</td>\n",
       "      <td>8</td>\n",
       "      <td>8-Dec-16</td>\n",
       "      <td>1</td>\n",
       "    </tr>\n",
       "    <tr>\n",
       "      <th>10</th>\n",
       "      <td>29607</td>\n",
       "      <td>Topiramate</td>\n",
       "      <td>Migraine Prevention</td>\n",
       "      <td>\"I have been on this medication almost two wee...</td>\n",
       "      <td>9</td>\n",
       "      <td>1-Jan-15</td>\n",
       "      <td>19</td>\n",
       "    </tr>\n",
       "    <tr>\n",
       "      <th>11</th>\n",
       "      <td>75612</td>\n",
       "      <td>L-methylfolate</td>\n",
       "      <td>Depression</td>\n",
       "      <td>\"I have taken anti-depressants for years, with...</td>\n",
       "      <td>10</td>\n",
       "      <td>9-Mar-17</td>\n",
       "      <td>54</td>\n",
       "    </tr>\n",
       "    <tr>\n",
       "      <th>12</th>\n",
       "      <td>191290</td>\n",
       "      <td>Pentasa</td>\n",
       "      <td>Crohn's Disease</td>\n",
       "      <td>\"I had Crohn&amp;#039;s with a resection 30 years ...</td>\n",
       "      <td>4</td>\n",
       "      <td>6-Jul-13</td>\n",
       "      <td>8</td>\n",
       "    </tr>\n",
       "    <tr>\n",
       "      <th>13</th>\n",
       "      <td>221320</td>\n",
       "      <td>Dextromethorphan</td>\n",
       "      <td>Cough</td>\n",
       "      <td>\"Have a little bit of a lingering cough from a...</td>\n",
       "      <td>4</td>\n",
       "      <td>7-Sep-17</td>\n",
       "      <td>1</td>\n",
       "    </tr>\n",
       "    <tr>\n",
       "      <th>14</th>\n",
       "      <td>98494</td>\n",
       "      <td>Nexplanon</td>\n",
       "      <td>Birth Control</td>\n",
       "      <td>\"Started Nexplanon 2 months ago because I have...</td>\n",
       "      <td>3</td>\n",
       "      <td>7-Aug-14</td>\n",
       "      <td>10</td>\n",
       "    </tr>\n",
       "    <tr>\n",
       "      <th>15</th>\n",
       "      <td>81890</td>\n",
       "      <td>Liraglutide</td>\n",
       "      <td>Obesity</td>\n",
       "      <td>\"I have been taking Saxenda since July 2016.  ...</td>\n",
       "      <td>9</td>\n",
       "      <td>19-Jan-17</td>\n",
       "      <td>20</td>\n",
       "    </tr>\n",
       "    <tr>\n",
       "      <th>16</th>\n",
       "      <td>48188</td>\n",
       "      <td>Trimethoprim</td>\n",
       "      <td>Urinary Tract Infection</td>\n",
       "      <td>\"This drug worked very well for me and cleared...</td>\n",
       "      <td>9</td>\n",
       "      <td>22-Sep-17</td>\n",
       "      <td>0</td>\n",
       "    </tr>\n",
       "    <tr>\n",
       "      <th>17</th>\n",
       "      <td>219869</td>\n",
       "      <td>Amitriptyline</td>\n",
       "      <td>ibromyalgia</td>\n",
       "      <td>\"I&amp;#039;ve been taking amitriptyline since Jan...</td>\n",
       "      <td>9</td>\n",
       "      <td>15-Mar-17</td>\n",
       "      <td>39</td>\n",
       "    </tr>\n",
       "    <tr>\n",
       "      <th>18</th>\n",
       "      <td>212077</td>\n",
       "      <td>Lamotrigine</td>\n",
       "      <td>Bipolar Disorde</td>\n",
       "      <td>\"I&amp;#039;ve been on every medicine under the su...</td>\n",
       "      <td>10</td>\n",
       "      <td>9-Nov-14</td>\n",
       "      <td>18</td>\n",
       "    </tr>\n",
       "    <tr>\n",
       "      <th>19</th>\n",
       "      <td>119705</td>\n",
       "      <td>Nilotinib</td>\n",
       "      <td>Chronic Myelogenous Leukemia</td>\n",
       "      <td>\"I have been on Tasigna for just over 3 years ...</td>\n",
       "      <td>10</td>\n",
       "      <td>1-Sep-15</td>\n",
       "      <td>11</td>\n",
       "    </tr>\n",
       "    <tr>\n",
       "      <th>20</th>\n",
       "      <td>12372</td>\n",
       "      <td>Atripla</td>\n",
       "      <td>HIV Infection</td>\n",
       "      <td>\"Spring of 2008 I was hospitalized with pnuemo...</td>\n",
       "      <td>8</td>\n",
       "      <td>9-Jul-10</td>\n",
       "      <td>11</td>\n",
       "    </tr>\n",
       "    <tr>\n",
       "      <th>21</th>\n",
       "      <td>231466</td>\n",
       "      <td>Trazodone</td>\n",
       "      <td>Insomnia</td>\n",
       "      <td>\"I have insomnia, it&amp;#039;s horrible. My story...</td>\n",
       "      <td>10</td>\n",
       "      <td>3-Apr-16</td>\n",
       "      <td>43</td>\n",
       "    </tr>\n",
       "    <tr>\n",
       "      <th>22</th>\n",
       "      <td>227020</td>\n",
       "      <td>Etonogestrel</td>\n",
       "      <td>Birth Control</td>\n",
       "      <td>\"Nexplanon does its job. I can have worry free...</td>\n",
       "      <td>9</td>\n",
       "      <td>11-Aug-14</td>\n",
       "      <td>11</td>\n",
       "    </tr>\n",
       "    <tr>\n",
       "      <th>23</th>\n",
       "      <td>41928</td>\n",
       "      <td>Etanercept</td>\n",
       "      <td>Rheumatoid Arthritis</td>\n",
       "      <td>\"I live in Western Australia and disturbed by ...</td>\n",
       "      <td>10</td>\n",
       "      <td>16-Sep-17</td>\n",
       "      <td>4</td>\n",
       "    </tr>\n",
       "    <tr>\n",
       "      <th>24</th>\n",
       "      <td>213649</td>\n",
       "      <td>Tioconazole</td>\n",
       "      <td>Vaginal Yeast Infection</td>\n",
       "      <td>\"Do not use the cream that comes with this. It...</td>\n",
       "      <td>1</td>\n",
       "      <td>17-Apr-17</td>\n",
       "      <td>7</td>\n",
       "    </tr>\n",
       "    <tr>\n",
       "      <th>25</th>\n",
       "      <td>51215</td>\n",
       "      <td>Azithromycin</td>\n",
       "      <td>Chlamydia Infection</td>\n",
       "      <td>\"Was prescribed one dose over the course of on...</td>\n",
       "      <td>7</td>\n",
       "      <td>14-Dec-15</td>\n",
       "      <td>7</td>\n",
       "    </tr>\n",
       "    <tr>\n",
       "      <th>26</th>\n",
       "      <td>206180</td>\n",
       "      <td>Eflornithine</td>\n",
       "      <td>Hirsutism</td>\n",
       "      <td>\"I&amp;#039;m writing a second review on Vaniqa.  ...</td>\n",
       "      <td>10</td>\n",
       "      <td>11-May-14</td>\n",
       "      <td>99</td>\n",
       "    </tr>\n",
       "    <tr>\n",
       "      <th>27</th>\n",
       "      <td>78563</td>\n",
       "      <td>Daytrana</td>\n",
       "      <td>ADHD</td>\n",
       "      <td>\"Hi all, My son who is 12 was diagnosed when h...</td>\n",
       "      <td>10</td>\n",
       "      <td>12-Jan-17</td>\n",
       "      <td>11</td>\n",
       "    </tr>\n",
       "    <tr>\n",
       "      <th>28</th>\n",
       "      <td>132258</td>\n",
       "      <td>Ativan</td>\n",
       "      <td>Panic Disorde</td>\n",
       "      <td>\"Honestly, I have been taking ativan for 2 yea...</td>\n",
       "      <td>6</td>\n",
       "      <td>1-Jun-15</td>\n",
       "      <td>47</td>\n",
       "    </tr>\n",
       "    <tr>\n",
       "      <th>29</th>\n",
       "      <td>27339</td>\n",
       "      <td>Imitrex</td>\n",
       "      <td>Migraine</td>\n",
       "      <td>\"At first I suffered through them. This includ...</td>\n",
       "      <td>8</td>\n",
       "      <td>16-Oct-12</td>\n",
       "      <td>6</td>\n",
       "    </tr>\n",
       "  </tbody>\n",
       "</table>\n",
       "</div>"
      ],
      "text/plain": [
       "    uniqueID                            drugName  \\\n",
       "0     206461                           Valsartan   \n",
       "1      95260                          Guanfacine   \n",
       "2      92703                              Lybrel   \n",
       "3     138000                          Ortho Evra   \n",
       "4      35696            Buprenorphine / naloxone   \n",
       "5     155963                              Cialis   \n",
       "6     165907                      Levonorgestrel   \n",
       "7     102654                        Aripiprazole   \n",
       "8      74811                              Keppra   \n",
       "9      48928  Ethinyl estradiol / levonorgestrel   \n",
       "10     29607                          Topiramate   \n",
       "11     75612                      L-methylfolate   \n",
       "12    191290                             Pentasa   \n",
       "13    221320                    Dextromethorphan   \n",
       "14     98494                           Nexplanon   \n",
       "15     81890                         Liraglutide   \n",
       "16     48188                        Trimethoprim   \n",
       "17    219869                       Amitriptyline   \n",
       "18    212077                         Lamotrigine   \n",
       "19    119705                           Nilotinib   \n",
       "20     12372                             Atripla   \n",
       "21    231466                           Trazodone   \n",
       "22    227020                        Etonogestrel   \n",
       "23     41928                          Etanercept   \n",
       "24    213649                         Tioconazole   \n",
       "25     51215                        Azithromycin   \n",
       "26    206180                        Eflornithine   \n",
       "27     78563                            Daytrana   \n",
       "28    132258                              Ativan   \n",
       "29     27339                             Imitrex   \n",
       "\n",
       "                       condition  \\\n",
       "0   Left Ventricular Dysfunction   \n",
       "1                           ADHD   \n",
       "2                  Birth Control   \n",
       "3                  Birth Control   \n",
       "4              Opiate Dependence   \n",
       "5   Benign Prostatic Hyperplasia   \n",
       "6        Emergency Contraception   \n",
       "7                Bipolar Disorde   \n",
       "8                       Epilepsy   \n",
       "9                  Birth Control   \n",
       "10           Migraine Prevention   \n",
       "11                    Depression   \n",
       "12               Crohn's Disease   \n",
       "13                         Cough   \n",
       "14                 Birth Control   \n",
       "15                       Obesity   \n",
       "16       Urinary Tract Infection   \n",
       "17                   ibromyalgia   \n",
       "18               Bipolar Disorde   \n",
       "19  Chronic Myelogenous Leukemia   \n",
       "20                 HIV Infection   \n",
       "21                      Insomnia   \n",
       "22                 Birth Control   \n",
       "23          Rheumatoid Arthritis   \n",
       "24       Vaginal Yeast Infection   \n",
       "25           Chlamydia Infection   \n",
       "26                     Hirsutism   \n",
       "27                          ADHD   \n",
       "28                 Panic Disorde   \n",
       "29                      Migraine   \n",
       "\n",
       "                                               review  rating       date  \\\n",
       "0   \"It has no side effect, I take it in combinati...       9  20-May-12   \n",
       "1   \"My son is halfway through his fourth week of ...       8  27-Apr-10   \n",
       "2   \"I used to take another oral contraceptive, wh...       5  14-Dec-09   \n",
       "3   \"This is my first time using any form of birth...       8   3-Nov-15   \n",
       "4   \"Suboxone has completely turned my life around...       9  27-Nov-16   \n",
       "5   \"2nd day on 5mg started to work with rock hard...       2  28-Nov-15   \n",
       "6   \"He pulled out, but he cummed a bit in me. I t...       1   7-Mar-17   \n",
       "7   \"Abilify changed my life. There is hope. I was...      10  14-Mar-15   \n",
       "8   \" I Ve had  nothing but problems with the Kepp...       1   9-Aug-16   \n",
       "9   \"I had been on the pill for many years. When m...       8   8-Dec-16   \n",
       "10  \"I have been on this medication almost two wee...       9   1-Jan-15   \n",
       "11  \"I have taken anti-depressants for years, with...      10   9-Mar-17   \n",
       "12  \"I had Crohn&#039;s with a resection 30 years ...       4   6-Jul-13   \n",
       "13  \"Have a little bit of a lingering cough from a...       4   7-Sep-17   \n",
       "14  \"Started Nexplanon 2 months ago because I have...       3   7-Aug-14   \n",
       "15  \"I have been taking Saxenda since July 2016.  ...       9  19-Jan-17   \n",
       "16  \"This drug worked very well for me and cleared...       9  22-Sep-17   \n",
       "17  \"I&#039;ve been taking amitriptyline since Jan...       9  15-Mar-17   \n",
       "18  \"I&#039;ve been on every medicine under the su...      10   9-Nov-14   \n",
       "19  \"I have been on Tasigna for just over 3 years ...      10   1-Sep-15   \n",
       "20  \"Spring of 2008 I was hospitalized with pnuemo...       8   9-Jul-10   \n",
       "21  \"I have insomnia, it&#039;s horrible. My story...      10   3-Apr-16   \n",
       "22  \"Nexplanon does its job. I can have worry free...       9  11-Aug-14   \n",
       "23  \"I live in Western Australia and disturbed by ...      10  16-Sep-17   \n",
       "24  \"Do not use the cream that comes with this. It...       1  17-Apr-17   \n",
       "25  \"Was prescribed one dose over the course of on...       7  14-Dec-15   \n",
       "26  \"I&#039;m writing a second review on Vaniqa.  ...      10  11-May-14   \n",
       "27  \"Hi all, My son who is 12 was diagnosed when h...      10  12-Jan-17   \n",
       "28  \"Honestly, I have been taking ativan for 2 yea...       6   1-Jun-15   \n",
       "29  \"At first I suffered through them. This includ...       8  16-Oct-12   \n",
       "\n",
       "    usefulCount  \n",
       "0            27  \n",
       "1           192  \n",
       "2            17  \n",
       "3            10  \n",
       "4            37  \n",
       "5            43  \n",
       "6             5  \n",
       "7            32  \n",
       "8            11  \n",
       "9             1  \n",
       "10           19  \n",
       "11           54  \n",
       "12            8  \n",
       "13            1  \n",
       "14           10  \n",
       "15           20  \n",
       "16            0  \n",
       "17           39  \n",
       "18           18  \n",
       "19           11  \n",
       "20           11  \n",
       "21           43  \n",
       "22           11  \n",
       "23            4  \n",
       "24            7  \n",
       "25            7  \n",
       "26           99  \n",
       "27           11  \n",
       "28           47  \n",
       "29            6  "
      ]
     },
     "execution_count": 168,
     "metadata": {},
     "output_type": "execute_result"
    }
   ],
   "source": [
    "drugs=pd.read_csv(\"C:/Users/LENOVO/Desktop/kaggle/hackaton/drugsComTrain_raw.csv\")\n",
    "drugs.head(30)"
   ]
  },
  {
   "cell_type": "code",
   "execution_count": 169,
   "metadata": {},
   "outputs": [
    {
     "data": {
      "text/html": [
       "<div>\n",
       "<style scoped>\n",
       "    .dataframe tbody tr th:only-of-type {\n",
       "        vertical-align: middle;\n",
       "    }\n",
       "\n",
       "    .dataframe tbody tr th {\n",
       "        vertical-align: top;\n",
       "    }\n",
       "\n",
       "    .dataframe thead th {\n",
       "        text-align: right;\n",
       "    }\n",
       "</style>\n",
       "<table border=\"1\" class=\"dataframe\">\n",
       "  <thead>\n",
       "    <tr style=\"text-align: right;\">\n",
       "      <th></th>\n",
       "      <th>uniqueID</th>\n",
       "      <th>rating</th>\n",
       "      <th>usefulCount</th>\n",
       "    </tr>\n",
       "  </thead>\n",
       "  <tbody>\n",
       "    <tr>\n",
       "      <th>count</th>\n",
       "      <td>161297.000000</td>\n",
       "      <td>161297.000000</td>\n",
       "      <td>161297.000000</td>\n",
       "    </tr>\n",
       "    <tr>\n",
       "      <th>mean</th>\n",
       "      <td>115923.585305</td>\n",
       "      <td>6.994377</td>\n",
       "      <td>28.004755</td>\n",
       "    </tr>\n",
       "    <tr>\n",
       "      <th>std</th>\n",
       "      <td>67004.445170</td>\n",
       "      <td>3.272329</td>\n",
       "      <td>36.403742</td>\n",
       "    </tr>\n",
       "    <tr>\n",
       "      <th>min</th>\n",
       "      <td>2.000000</td>\n",
       "      <td>1.000000</td>\n",
       "      <td>0.000000</td>\n",
       "    </tr>\n",
       "    <tr>\n",
       "      <th>25%</th>\n",
       "      <td>58063.000000</td>\n",
       "      <td>5.000000</td>\n",
       "      <td>6.000000</td>\n",
       "    </tr>\n",
       "    <tr>\n",
       "      <th>50%</th>\n",
       "      <td>115744.000000</td>\n",
       "      <td>8.000000</td>\n",
       "      <td>16.000000</td>\n",
       "    </tr>\n",
       "    <tr>\n",
       "      <th>75%</th>\n",
       "      <td>173776.000000</td>\n",
       "      <td>10.000000</td>\n",
       "      <td>36.000000</td>\n",
       "    </tr>\n",
       "    <tr>\n",
       "      <th>max</th>\n",
       "      <td>232291.000000</td>\n",
       "      <td>10.000000</td>\n",
       "      <td>1291.000000</td>\n",
       "    </tr>\n",
       "  </tbody>\n",
       "</table>\n",
       "</div>"
      ],
      "text/plain": [
       "            uniqueID         rating    usefulCount\n",
       "count  161297.000000  161297.000000  161297.000000\n",
       "mean   115923.585305       6.994377      28.004755\n",
       "std     67004.445170       3.272329      36.403742\n",
       "min         2.000000       1.000000       0.000000\n",
       "25%     58063.000000       5.000000       6.000000\n",
       "50%    115744.000000       8.000000      16.000000\n",
       "75%    173776.000000      10.000000      36.000000\n",
       "max    232291.000000      10.000000    1291.000000"
      ]
     },
     "execution_count": 169,
     "metadata": {},
     "output_type": "execute_result"
    }
   ],
   "source": [
    "drugs.describe()"
   ]
  },
  {
   "cell_type": "code",
   "execution_count": 170,
   "metadata": {},
   "outputs": [
    {
     "data": {
      "text/plain": [
       "Levonorgestrel                        3657\n",
       "Etonogestrel                          3336\n",
       "Ethinyl estradiol / norethindrone     2850\n",
       "Nexplanon                             2156\n",
       "Ethinyl estradiol / norgestimate      2117\n",
       "Ethinyl estradiol / levonorgestrel    1888\n",
       "Phentermine                           1543\n",
       "Sertraline                            1360\n",
       "Escitalopram                          1292\n",
       "Mirena                                1242\n",
       "Name: drugName, dtype: int64"
      ]
     },
     "execution_count": 170,
     "metadata": {},
     "output_type": "execute_result"
    }
   ],
   "source": [
    "s=drugs.drugName.value_counts().nlargest(10)\n",
    "s"
   ]
  },
  {
   "cell_type": "code",
   "execution_count": 201,
   "metadata": {},
   "outputs": [
    {
     "data": {
      "text/plain": [
       "<matplotlib.axes._subplots.AxesSubplot at 0x254001e9978>"
      ]
     },
     "execution_count": 201,
     "metadata": {},
     "output_type": "execute_result"
    },
    {
     "data": {
      "image/png": "[encoded data removed]",
      "text/plain": [
       "<matplotlib.figure.Figure at 0x2540244b4a8>"
      ]
     },
     "metadata": {},
     "output_type": "display_data"
    }
   ],
   "source": [
    "plt.title('Top 10 drugs')\n",
    "s.plot(kind='bar')"
   ]
  },
  {
   "cell_type": "code",
   "execution_count": 172,
   "metadata": {},
   "outputs": [
    {
     "data": {
      "text/plain": [
       "0.5573569254232875"
      ]
     },
     "execution_count": 172,
     "metadata": {},
     "output_type": "execute_result"
    }
   ],
   "source": [
    "(drugs.isna().sum().sum()/161297)*100"
   ]
  },
  {
   "cell_type": "markdown",
   "metadata": {},
   "source": [
    "# Top 10 drugs with best and worst rating"
   ]
  },
  {
   "cell_type": "code",
   "execution_count": 173,
   "metadata": {},
   "outputs": [
    {
     "data": {
      "text/plain": [
       "rating  drugName                         \n",
       "10      Levonorgestrel                       1395\n",
       "        Phentermine                           813\n",
       "        Etonogestrel                          646\n",
       "        Varenicline                           479\n",
       "        Ethinyl estradiol / norethindrone     470\n",
       "        Escitalopram                          454\n",
       "        Clonazepam                            436\n",
       "        Plan B                                413\n",
       "        Sertraline                            412\n",
       "        Nexplanon                             396\n",
       "Name: drugName, dtype: int64"
      ]
     },
     "execution_count": 173,
     "metadata": {},
     "output_type": "execute_result"
    }
   ],
   "source": [
    "t10rat=drugs.groupby(['rating']).drugName.value_counts().nlargest(20,'first').sort_index(ascending=False)\n",
    "t10rat=t10rat[:10].sort_values(ascending=False).nlargest(10)\n",
    "t10rat"
   ]
  },
  {
   "cell_type": "code",
   "execution_count": 174,
   "metadata": {},
   "outputs": [
    {
     "data": {
      "text/plain": [
       "<matplotlib.axes._subplots.AxesSubplot at 0x25403dbd940>"
      ]
     },
     "execution_count": 174,
     "metadata": {},
     "output_type": "execute_result"
    },
    {
     "data": {
      "image/png": "[encoded data removed]",
      "text/plain": [
       "<matplotlib.figure.Figure at 0x254000284e0>"
      ]
     },
     "metadata": {},
     "output_type": "display_data"
    }
   ],
   "source": [
    "plt.title('Top 10 best drugname-condition by rating')\n",
    "t10rat.plot(kind='bar')"
   ]
  },
  {
   "cell_type": "code",
   "execution_count": 185,
   "metadata": {},
   "outputs": [
    {
     "data": {
      "text/plain": [
       "rating  drugName        \n",
       "1       Aciphex             1\n",
       "        ActoPlus Met        1\n",
       "        Acyclovir           1\n",
       "        Adempas             1\n",
       "        Adenosine           1\n",
       "        Advil Liqui-Gels    1\n",
       "        Afinitor            1\n",
       "        Aflibercept         1\n",
       "        Alamast             1\n",
       "        Aller-Ease          1\n",
       "Name: drugName, dtype: int64"
      ]
     },
     "execution_count": 185,
     "metadata": {},
     "output_type": "execute_result"
    }
   ],
   "source": [
    "t10ratlow=drugs.groupby(['rating']).drugName.value_counts().nsmallest(20,'first').sort_index(ascending=False)\n",
    "t10ratlow=t10ratlow[:10].sort_values(ascending=False).nsmallest(10)\n",
    "t10ratlow"
   ]
  },
  {
   "cell_type": "code",
   "execution_count": 200,
   "metadata": {},
   "outputs": [
    {
     "data": {
      "text/plain": [
       "<matplotlib.axes._subplots.AxesSubplot at 0x25400d91470>"
      ]
     },
     "execution_count": 200,
     "metadata": {},
     "output_type": "execute_result"
    },
    {
     "data": {
      "image/png": "[encoded data removed]",
      "text/plain": [
       "<matplotlib.figure.Figure at 0x2540116e518>"
      ]
     },
     "metadata": {},
     "output_type": "display_data"
    }
   ],
   "source": [
    "plt.title('Top 10 worst drugname by rating')\n",
    "t10ratlow.plot(kind='bar')"
   ]
  },
  {
   "cell_type": "markdown",
   "metadata": {},
   "source": [
    "# Top 10 pair (Drug, Condition) with best and worst rating "
   ]
  },
  {
   "cell_type": "code",
   "execution_count": 179,
   "metadata": {},
   "outputs": [
    {
     "data": {
      "text/plain": [
       "rating  condition                drugName                         \n",
       "10      Weight Loss              Phentermine                          651\n",
       "        Smoking Cessation        Varenicline                          475\n",
       "                                 Chantix                              395\n",
       "        Emergency Contraception  Plan B                               408\n",
       "                                 Levonorgestrel                       756\n",
       "        Birth Control            Nexplanon                            394\n",
       "                                 Levonorgestrel                       584\n",
       "                                 Etonogestrel                         641\n",
       "                                 Ethinyl estradiol / norethindrone    404\n",
       "9       Birth Control            Levonorgestrel                       416\n",
       "Name: drugName, dtype: int64"
      ]
     },
     "execution_count": 179,
     "metadata": {},
     "output_type": "execute_result"
    }
   ],
   "source": [
    "t10cond=drugs.groupby(['rating','condition']).drugName.value_counts().nlargest(20,'first').sort_index(ascending=False)\n",
    "t10cond=t10cond.sort_index(ascending=False)\n",
    "t10cond=t10cond[:10].sort_values(ascending=False).nlargest(10)\n",
    "t10cond=t10cond.sort_index(ascending=False)[:10]\n",
    "t10cond"
   ]
  },
  {
   "cell_type": "code",
   "execution_count": 199,
   "metadata": {},
   "outputs": [
    {
     "data": {
      "text/plain": [
       "<matplotlib.axes._subplots.AxesSubplot at 0x254001e99b0>"
      ]
     },
     "execution_count": 199,
     "metadata": {},
     "output_type": "execute_result"
    },
    {
     "data": {
      "image/png": "[encoded data removed]",
      "text/plain": [
       "<matplotlib.figure.Figure at 0x25400faf828>"
      ]
     },
     "metadata": {},
     "output_type": "display_data"
    }
   ],
   "source": [
    "plt.title('Top 10 best drugname-condition by rating')\n",
    "t10cond.plot(kind='bar')"
   ]
  },
  {
   "cell_type": "code",
   "execution_count": 188,
   "metadata": {},
   "outputs": [
    {
     "data": {
      "text/plain": [
       "rating  condition                                    drugName                         \n",
       "1       15</span> users found this comment helpful.  Ultram                               1\n",
       "                                                     Rogaine                              1\n",
       "                                                     Flexeril                             1\n",
       "        14</span> users found this comment helpful.  Yasmin                               1\n",
       "                                                     Vimovo                               1\n",
       "                                                     Hair Regrowth Treatment for Women    1\n",
       "                                                     Contrave                             1\n",
       "        13</span> users found this comment helpful.  Duexis                               1\n",
       "        11</span> users found this comment helpful.  Levaquin                             1\n",
       "        10</span> users found this comment helpful.  Bontril Slow Release                 1\n",
       "Name: drugName, dtype: int64"
      ]
     },
     "execution_count": 188,
     "metadata": {},
     "output_type": "execute_result"
    }
   ],
   "source": [
    "t10condlow=drugs.groupby(['rating','condition']).drugName.value_counts().nsmallest(20,'first').sort_index(ascending=False)\n",
    "t10condlow=t10condlow.sort_index(ascending=False)\n",
    "t10condlow=t10condlow[:10].sort_values(ascending=False).nsmallest(10)\n",
    "t10condlow=t10condlow.sort_index(ascending=False)[:10]\n",
    "t10condlow"
   ]
  },
  {
   "cell_type": "code",
   "execution_count": 198,
   "metadata": {},
   "outputs": [
    {
     "data": {
      "text/plain": [
       "<matplotlib.axes._subplots.AxesSubplot at 0x254010fc390>"
      ]
     },
     "execution_count": 198,
     "metadata": {},
     "output_type": "execute_result"
    },
    {
     "data": {
      "image/png": "[encoded data removed]",
      "text/plain": [
       "<matplotlib.figure.Figure at 0x25400faf8d0>"
      ]
     },
     "metadata": {},
     "output_type": "display_data"
    }
   ],
   "source": [
    "plt.title('Top 10 worst drugname-condition by rating')\n",
    "t10condlow.plot(kind='bar')"
   ]
  },
  {
   "cell_type": "markdown",
   "metadata": {},
   "source": [
    "# Top 10 condition count"
   ]
  },
  {
   "cell_type": "code",
   "execution_count": 183,
   "metadata": {},
   "outputs": [
    {
     "data": {
      "text/plain": [
       "Birth Control      28788\n",
       "Depression          9069\n",
       "Pain                6145\n",
       "Anxiety             5904\n",
       "Acne                5588\n",
       "Bipolar Disorde     4224\n",
       "Insomnia            3673\n",
       "Weight Loss         3609\n",
       "Obesity             3568\n",
       "ADHD                3383\n",
       "Name: condition, dtype: int64"
      ]
     },
     "execution_count": 183,
     "metadata": {},
     "output_type": "execute_result"
    }
   ],
   "source": [
    "conditions=drugs.condition.value_counts().nlargest(10)\n",
    "conditions"
   ]
  },
  {
   "cell_type": "code",
   "execution_count": 184,
   "metadata": {},
   "outputs": [
    {
     "data": {
      "text/plain": [
       "<matplotlib.axes._subplots.AxesSubplot at 0x2540013ecf8>"
      ]
     },
     "execution_count": 184,
     "metadata": {},
     "output_type": "execute_result"
    },
    {
     "data": {
      "image/png": "[encoded data removed]",
      "text/plain": [
       "<matplotlib.figure.Figure at 0x25400121198>"
      ]
     },
     "metadata": {},
     "output_type": "display_data"
    }
   ],
   "source": [
    "conditions.plot(kind='bar')"
   ]
  }
 ],
 "metadata": {
  "kernelspec": {
   "display_name": "Python 3",
   "language": "python",
   "name": "python3"
  },
  "language_info": {
   "codemirror_mode": {
    "name": "ipython",
    "version": 3
   },
   "file_extension": ".py",
   "mimetype": "text/x-python",
   "name": "python",
   "nbconvert_exporter": "python",
   "pygments_lexer": "ipython3",
   "version": "3.6.4"
  }
 },
 "nbformat": 4,
 "nbformat_minor": 2
}
